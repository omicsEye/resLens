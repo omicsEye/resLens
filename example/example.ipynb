{
 "cells": [
  {
   "cell_type": "markdown",
   "metadata": {},
   "source": [
    "## ResLens: Antibiotic Resistance Gene Prediction Example\n",
    "\n",
    "This script demonstrates how to use the ResLens models to:\n",
    "1. Identify sequences that are likely to be antibiotic resistance genes (ARGs)\n",
    "2. Classify the resistance mechanism for identified ARGs"
   ]
  },
  {
   "cell_type": "code",
   "execution_count": 1,
   "metadata": {},
   "outputs": [],
   "source": [
    "import pandas as pd\n",
    "import torch\n",
    "from transformers import AutoTokenizer, AutoModelForSequenceClassification, AutoConfig\n",
    "from torch.nn.functional import softmax\n",
    "import numpy as np"
   ]
  },
  {
   "cell_type": "markdown",
   "metadata": {},
   "source": [
    "Load in example data"
   ]
  },
  {
   "cell_type": "code",
   "execution_count": 27,
   "metadata": {},
   "outputs": [
    {
     "data": {
      "text/html": [
       "<div>\n",
       "<style scoped>\n",
       "    .dataframe tbody tr th:only-of-type {\n",
       "        vertical-align: middle;\n",
       "    }\n",
       "\n",
       "    .dataframe tbody tr th {\n",
       "        vertical-align: top;\n",
       "    }\n",
       "\n",
       "    .dataframe thead th {\n",
       "        text-align: right;\n",
       "    }\n",
       "</style>\n",
       "<table border=\"1\" class=\"dataframe\">\n",
       "  <thead>\n",
       "    <tr style=\"text-align: right;\">\n",
       "      <th></th>\n",
       "      <th>seq</th>\n",
       "      <th>class</th>\n",
       "    </tr>\n",
       "  </thead>\n",
       "  <tbody>\n",
       "    <tr>\n",
       "      <th>0</th>\n",
       "      <td>ATGAAAATAATTAACTTAGGCATTCTGGCTCACGTTGACGCAGGAA...</td>\n",
       "      <td>tetracycline</td>\n",
       "    </tr>\n",
       "    <tr>\n",
       "      <th>1</th>\n",
       "      <td>GTGACATTGAAATCCCCACTGCCACCGCAATCCGTCTCCGCACCCG...</td>\n",
       "      <td>MLS</td>\n",
       "    </tr>\n",
       "    <tr>\n",
       "      <th>2</th>\n",
       "      <td>TTGAAAAAATTAATAATTTTAGTCGTGTTAGCGTTGATATTAAGTG...</td>\n",
       "      <td>beta_lactam</td>\n",
       "    </tr>\n",
       "    <tr>\n",
       "      <th>3</th>\n",
       "      <td>ATGTTGAAAAGTTCGTGGCGTAAAACCGCCCTGATGGCCGCCGCCG...</td>\n",
       "      <td>beta_lactam</td>\n",
       "    </tr>\n",
       "    <tr>\n",
       "      <th>4</th>\n",
       "      <td>ATGCGCGGTAAACACACTGTCATTCTGGGCGCGGCACTGTCGGCGC...</td>\n",
       "      <td>beta_lactam</td>\n",
       "    </tr>\n",
       "    <tr>\n",
       "      <th>5</th>\n",
       "      <td>ATGGGCATCATTCGCACATGTAGGCTCGGCCCTGACCAAGTCAAAT...</td>\n",
       "      <td>aminoglycoside</td>\n",
       "    </tr>\n",
       "    <tr>\n",
       "      <th>6</th>\n",
       "      <td>ATGACAGAGCAGCAGTGGAATTTCGCGGGTATCGAGGCCGCGGCAA...</td>\n",
       "      <td>non_ARG</td>\n",
       "    </tr>\n",
       "    <tr>\n",
       "      <th>7</th>\n",
       "      <td>ATGGCTATCGACGAAAACAAACAGAAAGCGTTGGCGGCAGCACTGG...</td>\n",
       "      <td>non_ARG</td>\n",
       "    </tr>\n",
       "    <tr>\n",
       "      <th>8</th>\n",
       "      <td>ATGTTTGAACCAATGGAACTTACCAATGACGCGGTGATTAAAGTCA...</td>\n",
       "      <td>non_ARG</td>\n",
       "    </tr>\n",
       "    <tr>\n",
       "      <th>9</th>\n",
       "      <td>ATGAGAGATTTATTATCTAAAAAAAGTCATAGGCAATTAGAATTAT...</td>\n",
       "      <td>non_ARG</td>\n",
       "    </tr>\n",
       "  </tbody>\n",
       "</table>\n",
       "</div>"
      ],
      "text/plain": [
       "                                                 seq           class\n",
       "0  ATGAAAATAATTAACTTAGGCATTCTGGCTCACGTTGACGCAGGAA...    tetracycline\n",
       "1  GTGACATTGAAATCCCCACTGCCACCGCAATCCGTCTCCGCACCCG...             MLS\n",
       "2  TTGAAAAAATTAATAATTTTAGTCGTGTTAGCGTTGATATTAAGTG...     beta_lactam\n",
       "3  ATGTTGAAAAGTTCGTGGCGTAAAACCGCCCTGATGGCCGCCGCCG...     beta_lactam\n",
       "4  ATGCGCGGTAAACACACTGTCATTCTGGGCGCGGCACTGTCGGCGC...     beta_lactam\n",
       "5  ATGGGCATCATTCGCACATGTAGGCTCGGCCCTGACCAAGTCAAAT...  aminoglycoside\n",
       "6  ATGACAGAGCAGCAGTGGAATTTCGCGGGTATCGAGGCCGCGGCAA...         non_ARG\n",
       "7  ATGGCTATCGACGAAAACAAACAGAAAGCGTTGGCGGCAGCACTGG...         non_ARG\n",
       "8  ATGTTTGAACCAATGGAACTTACCAATGACGCGGTGATTAAAGTCA...         non_ARG\n",
       "9  ATGAGAGATTTATTATCTAAAAAAAGTCATAGGCAATTAGAATTAT...         non_ARG"
      ]
     },
     "metadata": {},
     "output_type": "display_data"
    }
   ],
   "source": [
    "df = pd.read_csv('example_data.csv')\n",
    "display(df)"
   ]
  },
  {
   "cell_type": "markdown",
   "metadata": {},
   "source": [
    "Load models"
   ]
  },
  {
   "cell_type": "code",
   "execution_count": 28,
   "metadata": {},
   "outputs": [
    {
     "name": "stdout",
     "output_type": "stream",
     "text": [
      "Using device: cpu\n",
      "Loading binary model...\n",
      "Loading multiclass model...\n"
     ]
    }
   ],
   "source": [
    "device = torch.device(\"cuda\" if torch.cuda.is_available() else \"cpu\")\n",
    "print(f\"Using device: {device}\")\n",
    "\n",
    "def load_model_and_tokenizer(model_path, device):\n",
    "    \"\"\"Load a model and its tokenizer.\"\"\"\n",
    "    tokenizer = AutoTokenizer.from_pretrained(model_path,trust_remote_code=True)\n",
    "    config = AutoConfig.from_pretrained(model_path\n",
    "                                        , trust_remote_code=True\n",
    "                                        )\n",
    "    model = AutoModelForSequenceClassification.from_pretrained(\n",
    "        model_path\n",
    "        , config=config\n",
    "        , trust_remote_code=True\n",
    "    ).to(device)\n",
    "    model.eval()\n",
    "    return tokenizer, model, config\n",
    "\n",
    "print(\"Loading binary model...\")\n",
    "binary_model_path = \"omicseye/resLens_lr_binary\"\n",
    "bin_tok, bin_model, _ = load_model_and_tokenizer(binary_model_path, device)\n",
    "\n",
    "print(\"Loading multiclass model...\")\n",
    "multiclass_model_path = \"omicseye/resLens_lr_multiclass\"\n",
    "multi_tok, multi_model, multi_config = load_model_and_tokenizer(multiclass_model_path, device)"
   ]
  },
  {
   "cell_type": "markdown",
   "metadata": {},
   "source": [
    "Tokenize and make ARG vs non-ARG predictions"
   ]
  },
  {
   "cell_type": "code",
   "execution_count": 29,
   "metadata": {},
   "outputs": [
    {
     "name": "stdout",
     "output_type": "stream",
     "text": [
      "Running binary predictions...\n",
      "Binary predictions complete\n"
     ]
    }
   ],
   "source": [
    "def batch_predict(model, tokenizer, sequences, device, batch_size=16):\n",
    "    \"\"\"Make predictions on a batch of sequences.\"\"\"\n",
    "    all_preds = []\n",
    "    all_probs = []\n",
    "    maxlen = tokenizer.model_max_length\n",
    "    \n",
    "    for i in range(0, len(sequences), batch_size):\n",
    "        batch = list(sequences[i : i + batch_size])\n",
    "        enc = tokenizer(\n",
    "            batch,\n",
    "            padding=True,\n",
    "            truncation=True,\n",
    "            max_length=maxlen,\n",
    "            return_tensors=\"pt\",\n",
    "        ).to(device)\n",
    "        \n",
    "        with torch.no_grad():\n",
    "            logits = model(**enc).logits\n",
    "            probs = softmax(logits, dim=-1)\n",
    "            preds = torch.argmax(logits, dim=-1)\n",
    "            \n",
    "        all_preds.extend(preds.cpu().tolist())\n",
    "        all_probs.extend(probs.cpu().tolist())\n",
    "    \n",
    "    return all_preds, all_probs\n",
    "\n",
    "print(\"Running binary predictions...\")\n",
    "seqs = df.seq\n",
    "bin_preds, bin_probs = batch_predict(bin_model, bin_tok, seqs, device)\n",
    "df[\"binary_pred\"] = bin_preds\n",
    "df[\"binary_prob\"] = [probs[1] for probs in bin_probs]\n",
    "df[\"binary_pred\"] = np.where(df.binary_pred == 0, \"ARG\", \"non_ARG\")\n",
    "print(\"Binary predictions complete\")"
   ]
  },
  {
   "cell_type": "markdown",
   "metadata": {},
   "source": [
    "Tokenize and make ARG class predictions"
   ]
  },
  {
   "cell_type": "code",
   "execution_count": 30,
   "metadata": {},
   "outputs": [
    {
     "name": "stdout",
     "output_type": "stream",
     "text": [
      "Running multiclass predictions on 6 predicted ARGs...\n",
      "Multiclass predictions complete\n"
     ]
    }
   ],
   "source": [
    "arg_idx = df.index[df[\"binary_pred\"] == 'ARG'].tolist()\n",
    "df[\"arg_pred\"] = None\n",
    "df[\"arg_pred_prob\"] = None\n",
    "\n",
    "if arg_idx:\n",
    "    arg_seqs = [seqs[i] for i in arg_idx]\n",
    "    print(f\"Running multiclass predictions on {len(arg_seqs)} predicted ARGs...\")\n",
    "    multi_preds, multi_probs = batch_predict(multi_model, multi_tok, arg_seqs, device)\n",
    "    \n",
    "    # Map numeric IDs to label names\n",
    "    id2label = {int(k): v for k, v in multi_config.id2label.items()}\n",
    "    mapped = [id2label.get(pred, str(pred)) for pred in multi_preds]\n",
    "    \n",
    "    # Add predictions to dataframe\n",
    "    df.loc[arg_idx, \"arg_pred\"] = pd.Series(mapped, index=arg_idx)\n",
    "    df.loc[arg_idx, \"arg_pred_prob\"] = pd.Series([max(probs) for probs in multi_probs], index=arg_idx)\n",
    "\n",
    "df['arg_pred'] = df['arg_pred'].fillna('non_ARG')\n",
    "print(\"Multiclass predictions complete\")"
   ]
  },
  {
   "cell_type": "code",
   "execution_count": 31,
   "metadata": {},
   "outputs": [
    {
     "data": {
      "text/html": [
       "<div>\n",
       "<style scoped>\n",
       "    .dataframe tbody tr th:only-of-type {\n",
       "        vertical-align: middle;\n",
       "    }\n",
       "\n",
       "    .dataframe tbody tr th {\n",
       "        vertical-align: top;\n",
       "    }\n",
       "\n",
       "    .dataframe thead th {\n",
       "        text-align: right;\n",
       "    }\n",
       "</style>\n",
       "<table border=\"1\" class=\"dataframe\">\n",
       "  <thead>\n",
       "    <tr style=\"text-align: right;\">\n",
       "      <th></th>\n",
       "      <th>seq</th>\n",
       "      <th>class</th>\n",
       "      <th>binary_pred</th>\n",
       "      <th>binary_prob</th>\n",
       "      <th>arg_pred</th>\n",
       "      <th>arg_pred_prob</th>\n",
       "    </tr>\n",
       "  </thead>\n",
       "  <tbody>\n",
       "    <tr>\n",
       "      <th>0</th>\n",
       "      <td>ATGAAAATAATTAACTTAGGCATTCTGGCTCACGTTGACGCAGGAA...</td>\n",
       "      <td>tetracycline</td>\n",
       "      <td>ARG</td>\n",
       "      <td>0.000418</td>\n",
       "      <td>tetracycline</td>\n",
       "      <td>0.991753</td>\n",
       "    </tr>\n",
       "    <tr>\n",
       "      <th>1</th>\n",
       "      <td>GTGACATTGAAATCCCCACTGCCACCGCAATCCGTCTCCGCACCCG...</td>\n",
       "      <td>MLS</td>\n",
       "      <td>ARG</td>\n",
       "      <td>0.000545</td>\n",
       "      <td>MLS</td>\n",
       "      <td>0.992611</td>\n",
       "    </tr>\n",
       "    <tr>\n",
       "      <th>2</th>\n",
       "      <td>TTGAAAAAATTAATAATTTTAGTCGTGTTAGCGTTGATATTAAGTG...</td>\n",
       "      <td>beta_lactam</td>\n",
       "      <td>ARG</td>\n",
       "      <td>0.000426</td>\n",
       "      <td>beta_lactam</td>\n",
       "      <td>0.999743</td>\n",
       "    </tr>\n",
       "    <tr>\n",
       "      <th>3</th>\n",
       "      <td>ATGTTGAAAAGTTCGTGGCGTAAAACCGCCCTGATGGCCGCCGCCG...</td>\n",
       "      <td>beta_lactam</td>\n",
       "      <td>ARG</td>\n",
       "      <td>0.000411</td>\n",
       "      <td>beta_lactam</td>\n",
       "      <td>0.999751</td>\n",
       "    </tr>\n",
       "    <tr>\n",
       "      <th>4</th>\n",
       "      <td>ATGCGCGGTAAACACACTGTCATTCTGGGCGCGGCACTGTCGGCGC...</td>\n",
       "      <td>beta_lactam</td>\n",
       "      <td>ARG</td>\n",
       "      <td>0.000431</td>\n",
       "      <td>beta_lactam</td>\n",
       "      <td>0.999747</td>\n",
       "    </tr>\n",
       "    <tr>\n",
       "      <th>5</th>\n",
       "      <td>ATGGGCATCATTCGCACATGTAGGCTCGGCCCTGACCAAGTCAAAT...</td>\n",
       "      <td>aminoglycoside</td>\n",
       "      <td>ARG</td>\n",
       "      <td>0.000456</td>\n",
       "      <td>aminoglycoside</td>\n",
       "      <td>0.997469</td>\n",
       "    </tr>\n",
       "    <tr>\n",
       "      <th>6</th>\n",
       "      <td>ATGACAGAGCAGCAGTGGAATTTCGCGGGTATCGAGGCCGCGGCAA...</td>\n",
       "      <td>non_ARG</td>\n",
       "      <td>non_ARG</td>\n",
       "      <td>0.998610</td>\n",
       "      <td>non_ARG</td>\n",
       "      <td>None</td>\n",
       "    </tr>\n",
       "    <tr>\n",
       "      <th>7</th>\n",
       "      <td>ATGGCTATCGACGAAAACAAACAGAAAGCGTTGGCGGCAGCACTGG...</td>\n",
       "      <td>non_ARG</td>\n",
       "      <td>non_ARG</td>\n",
       "      <td>0.998672</td>\n",
       "      <td>non_ARG</td>\n",
       "      <td>None</td>\n",
       "    </tr>\n",
       "    <tr>\n",
       "      <th>8</th>\n",
       "      <td>ATGTTTGAACCAATGGAACTTACCAATGACGCGGTGATTAAAGTCA...</td>\n",
       "      <td>non_ARG</td>\n",
       "      <td>non_ARG</td>\n",
       "      <td>0.998648</td>\n",
       "      <td>non_ARG</td>\n",
       "      <td>None</td>\n",
       "    </tr>\n",
       "    <tr>\n",
       "      <th>9</th>\n",
       "      <td>ATGAGAGATTTATTATCTAAAAAAAGTCATAGGCAATTAGAATTAT...</td>\n",
       "      <td>non_ARG</td>\n",
       "      <td>non_ARG</td>\n",
       "      <td>0.989429</td>\n",
       "      <td>non_ARG</td>\n",
       "      <td>None</td>\n",
       "    </tr>\n",
       "  </tbody>\n",
       "</table>\n",
       "</div>"
      ],
      "text/plain": [
       "                                                 seq           class  \\\n",
       "0  ATGAAAATAATTAACTTAGGCATTCTGGCTCACGTTGACGCAGGAA...    tetracycline   \n",
       "1  GTGACATTGAAATCCCCACTGCCACCGCAATCCGTCTCCGCACCCG...             MLS   \n",
       "2  TTGAAAAAATTAATAATTTTAGTCGTGTTAGCGTTGATATTAAGTG...     beta_lactam   \n",
       "3  ATGTTGAAAAGTTCGTGGCGTAAAACCGCCCTGATGGCCGCCGCCG...     beta_lactam   \n",
       "4  ATGCGCGGTAAACACACTGTCATTCTGGGCGCGGCACTGTCGGCGC...     beta_lactam   \n",
       "5  ATGGGCATCATTCGCACATGTAGGCTCGGCCCTGACCAAGTCAAAT...  aminoglycoside   \n",
       "6  ATGACAGAGCAGCAGTGGAATTTCGCGGGTATCGAGGCCGCGGCAA...         non_ARG   \n",
       "7  ATGGCTATCGACGAAAACAAACAGAAAGCGTTGGCGGCAGCACTGG...         non_ARG   \n",
       "8  ATGTTTGAACCAATGGAACTTACCAATGACGCGGTGATTAAAGTCA...         non_ARG   \n",
       "9  ATGAGAGATTTATTATCTAAAAAAAGTCATAGGCAATTAGAATTAT...         non_ARG   \n",
       "\n",
       "  binary_pred  binary_prob        arg_pred arg_pred_prob  \n",
       "0         ARG     0.000418    tetracycline      0.991753  \n",
       "1         ARG     0.000545             MLS      0.992611  \n",
       "2         ARG     0.000426     beta_lactam      0.999743  \n",
       "3         ARG     0.000411     beta_lactam      0.999751  \n",
       "4         ARG     0.000431     beta_lactam      0.999747  \n",
       "5         ARG     0.000456  aminoglycoside      0.997469  \n",
       "6     non_ARG     0.998610         non_ARG          None  \n",
       "7     non_ARG     0.998672         non_ARG          None  \n",
       "8     non_ARG     0.998648         non_ARG          None  \n",
       "9     non_ARG     0.989429         non_ARG          None  "
      ]
     },
     "execution_count": 31,
     "metadata": {},
     "output_type": "execute_result"
    }
   ],
   "source": [
    "df"
   ]
  },
  {
   "cell_type": "code",
   "execution_count": null,
   "metadata": {},
   "outputs": [],
   "source": []
  },
  {
   "cell_type": "code",
   "execution_count": null,
   "metadata": {},
   "outputs": [],
   "source": []
  }
 ],
 "metadata": {
  "kernelspec": {
   "display_name": "base",
   "language": "python",
   "name": "python3"
  },
  "language_info": {
   "codemirror_mode": {
    "name": "ipython",
    "version": 3
   },
   "file_extension": ".py",
   "mimetype": "text/x-python",
   "name": "python",
   "nbconvert_exporter": "python",
   "pygments_lexer": "ipython3",
   "version": "3.12.2"
  }
 },
 "nbformat": 4,
 "nbformat_minor": 2
}
